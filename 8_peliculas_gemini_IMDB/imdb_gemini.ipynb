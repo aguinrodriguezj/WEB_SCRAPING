{
 "cells": [
  {
   "cell_type": "markdown",
   "metadata": {},
   "source": [
    "# Web Scraping with Gemini\n",
    "\n",
    "### Get the Top 250 IMDb Movies Using Gemini\n",
    "\n",
    "<img src='./img/movies_portada.png'>"
   ]
  },
  {
   "cell_type": "markdown",
   "metadata": {},
   "source": [
    "Haciendo uso de la inteligencia artificial, veremos lo sencillo que resulta extraer los datos de una página web. En concreto, usaremos Selenium para acceder a la web y BeautifulSoul para parsear el contenido HTML. Finalmente, le haremos una petición a Gemini para que extraiga los datos requeridos."
   ]
  },
  {
   "cell_type": "markdown",
   "metadata": {},
   "source": [
    "### **Consideraciones legales y éticas**\n",
    "\n",
    "Esta publicación no trata sobre cómo extraer datos de una página web con fines ilegales.\n",
    "\n",
    "Hay que asegurarse de tener permiso antes de extraer ciertos tipos de datos que puede violar los términos del servicio o incluso regulaciones legales:\n",
    "\n",
    "- Revise los términos de uso de la página web en relación a los permisos de extracción de datos.\n",
    "- Priorice el uso de las APIs, si están disponibles, ya que proporcionan acceso legal a los datos.\n",
    "- Póngase en contacto directamente con el propietario de la página web para comprobar el permiso de extracción de datos."
   ]
  },
  {
   "cell_type": "markdown",
   "metadata": {},
   "source": [
    "### **Introducción**\n",
    "\n",
    "IMDb (Internet Movie Database) es la mayor base de datos que existe en línea, en cuyos comienzos almacenaba información relacionada con películas, pero que con el paso del tiempo, fueron incorporando programas de televisión, eventos, entrega de premios y videojuegos.\n",
    "\n",
    "Explicaré cómo se puede obtener el listado de las 250 películas con mayor promedio de calificaciones, basado en votos de los usuarios registrados en el sitio web.\n",
    "\n",
    "Para ello, primero usaremos Selenium para acceder a la web y BeautifulSoul para parsear el contenido HTML. Finalmente, le haremos una petición a Gemini para que extraiga los datos requeridos."
   ]
  },
  {
   "cell_type": "markdown",
   "metadata": {},
   "source": [
    "### **Instalación de dependencias**\n",
    "\n",
    "Me encuentro en un “entorno conda” en la que tengo instalada la versión 3.12.2 de Python.\n",
    "\n",
    "A continuación, se muestran las librerías necesarias para la ejecución del código creado:\n",
    "\n",
    "- ipykernel : kernel de Jupyter necesario para ejecutar Python.\n",
    "- tqdm : herramienta útil para crear barras de progreso en bucles.\n",
    "- joblib : biblioteca que permite la serialización de objetos Python.\n",
    "- scipy : biblioteca para el cálculo avanzado que permite manipular y visualizar datos de alto nivel.\n",
    "- bs4 : librería BeautifulSoup que permite extraer datos de HTML y XML.\n",
    "- pandas : biblioteca escrita sobre Numpy para la manipulación y el análisis de datos.\n",
    "- selenium: herramienta de automatización web que nos permite interactuar con páginas web.\n",
    "- webdriver_manager: biblioteca que permite gestionar automáticamente los controladores de diferentes navegadores.\n",
    "- google-generativeai: biblioteca y herramientas de cliente API de alto nivel de Google Generative AI (Gemini).\n",
    "\n",
    "Ejecutamos en la terminal el siguiente código:\n",
    "\n",
    "```\n",
    "pip install ipykernel tqdm joblib scipy pandas bs4 selenium webdriver_manager google-generativeai\n",
    "```"
   ]
  },
  {
   "cell_type": "markdown",
   "metadata": {},
   "source": [
    "En mi caso, también he tenido que actualizar \"ipywidgets\" y \"jupiter\"\n",
    "\n",
    "```\n",
    "pip install ipywidgets --upgrade\n",
    "pip install jupyter --upgrade\n",
    "```"
   ]
  },
  {
   "cell_type": "code",
   "execution_count": 1,
   "metadata": {},
   "outputs": [],
   "source": [
    "#%pip install ipykernel tqdm joblib pandas bs4 selenium webdriver_manager google-generativeai\n",
    "#%pip install ipywidgets --upgrade\n",
    "#%pip install jupyter --upgrade"
   ]
  },
  {
   "cell_type": "markdown",
   "metadata": {},
   "source": [
    "### **Importación de dependencias**"
   ]
  },
  {
   "cell_type": "code",
   "execution_count": 4,
   "metadata": {},
   "outputs": [],
   "source": [
    "import csv\n",
    "import pandas as pd\n",
    "import time\n",
    "from bs4 import BeautifulSoup\n",
    "from selenium import webdriver\n",
    "from selenium.webdriver.chrome.service import Service\n",
    "from selenium.webdriver.chrome.options import Options\n",
    "from webdriver_manager.chrome import ChromeDriverManager\n",
    "from IPython.display import Markdown\n",
    "import google.generativeai as genai\n",
    "from google.generativeai.types import ContentType"
   ]
  },
  {
   "cell_type": "markdown",
   "metadata": {},
   "source": [
    "### **Configuración del navegador**"
   ]
  },
  {
   "cell_type": "code",
   "execution_count": 2,
   "metadata": {},
   "outputs": [],
   "source": [
    "# Set up Chrome options\n",
    "chrome_options = Options()\n",
    "#chrome_options.add_argument(\"--headless\")  # Run in headless mode (no GUI)\n",
    "chrome_options.add_argument(\"--no-first-run\") # Desactiva la pantalla de bienvenida\n",
    "chrome_options.add_argument(\"--no-default-browser-check\") # Desactiva la comprobación que hace chrome por defecto al iniciarse\n",
    "chrome_options.add_argument(\"user-data-dir=C:/Users/jagui/AppData/Local/Google/Chrome/User Data/Profile 1\") # ruta de un perfil preestablecido\n",
    "chrome_options.add_argument(\"--disable-gpu\")  # Disable GPU acceleration\n",
    "chrome_options.add_argument(\"--no-sandbox\")  # Required for some environments\n",
    "chrome_options.add_argument(\"--window-size=1920x1080\")  # Set window size to ensure visibility"
   ]
  },
  {
   "cell_type": "markdown",
   "metadata": {},
   "source": [
    "### **Abrir el navegador**"
   ]
  },
  {
   "cell_type": "code",
   "execution_count": 3,
   "metadata": {},
   "outputs": [],
   "source": [
    "# Configurar el service con ChromeDriverManager\n",
    "service = Service(ChromeDriverManager().install())\n",
    "\n",
    "# Crear una nueva instancia del webDriver de Chrome con las opciones configuradas \n",
    "driver = webdriver.Chrome(service=service, options=chrome_options)\n",
    "\n",
    "# Abrir la página web\n",
    "url = \"https://www.imdb.com/chart/top/\"\n",
    "driver.get(url)"
   ]
  },
  {
   "cell_type": "markdown",
   "metadata": {},
   "source": [
    "El navegador se abre y navega directamente a la url que le hemos indicado\n",
    "\n",
    "<img src='./img/top_imdb.jpg' width=800>"
   ]
  },
  {
   "cell_type": "markdown",
   "metadata": {},
   "source": [
    "En la imagen vemos toda la información que podemos extraer: \n",
    "\n",
    "- título de la película\n",
    "- año de estreno\n",
    "- duración de la película\n",
    "- número de votaciones\n",
    "- calificación"
   ]
  },
  {
   "cell_type": "markdown",
   "metadata": {},
   "source": [
    "### **Parseo el HTML, extraigo el contenido y cierro el navegador**"
   ]
  },
  {
   "cell_type": "code",
   "execution_count": 5,
   "metadata": {},
   "outputs": [],
   "source": [
    "# Parsear el HTML con BeautifulSoup\n",
    "content = driver.page_source\n",
    "soup = BeautifulSoup(content, 'html.parser')\n",
    "\n",
    "# Extraer el contenido HTML y lo almaceno como un str\n",
    "html_content = soup.get_text()\n",
    "\n",
    "time.sleep(2)\n",
    "\n",
    "# Cerrar el navegador\n",
    "driver.quit()"
   ]
  },
  {
   "cell_type": "markdown",
   "metadata": {},
   "source": [
    "### **Configurar Gemini**"
   ]
  },
  {
   "cell_type": "markdown",
   "metadata": {},
   "source": [
    "**Generar una una clave API**\n",
    "\n",
    "Lo primero que hay que hacer es obtener tu [clave API de Google AI for Developers](https://aistudio.google.com/app/apikey), siguiendo los pasos que nos van indicando."
   ]
  },
  {
   "cell_type": "markdown",
   "metadata": {},
   "source": [
    "**Modelos disponibles a través de la API libre**"
   ]
  },
  {
   "cell_type": "code",
   "execution_count": 7,
   "metadata": {},
   "outputs": [],
   "source": [
    "# Introduce tu API_KEY\n",
    "GOOGLE_API_KEY = 'TU_API_KEY'\n",
    "\n",
    "# Configurar la API\n",
    "genai.configure(api_key = GOOGLE_API_KEY)"
   ]
  },
  {
   "cell_type": "code",
   "execution_count": 8,
   "metadata": {},
   "outputs": [
    {
     "name": "stdout",
     "output_type": "stream",
     "text": [
      "models/gemini-1.0-pro-latest\n",
      "models/gemini-1.0-pro\n",
      "models/gemini-pro\n",
      "models/gemini-1.0-pro-001\n",
      "models/gemini-1.0-pro-vision-latest\n",
      "models/gemini-pro-vision\n",
      "models/gemini-1.5-pro-latest\n",
      "models/gemini-1.5-pro-001\n",
      "models/gemini-1.5-pro\n",
      "models/gemini-1.5-pro-exp-0801\n",
      "models/gemini-1.5-pro-exp-0827\n",
      "models/gemini-1.5-flash-latest\n",
      "models/gemini-1.5-flash-001\n",
      "models/gemini-1.5-flash-001-tuning\n",
      "models/gemini-1.5-flash\n",
      "models/gemini-1.5-flash-exp-0827\n",
      "models/gemini-1.5-flash-8b-exp-0827\n"
     ]
    }
   ],
   "source": [
    "for model in genai.list_models():\n",
    "    if 'generateContent' in model.supported_generation_methods:\n",
    "        print(model.name)"
   ]
  },
  {
   "cell_type": "markdown",
   "metadata": {},
   "source": [
    "Utilizo uno de los modelos disponibles. Por ejemplo el modelo 'gemini-1.5-pro'. Veamos qué características tiene:"
   ]
  },
  {
   "cell_type": "code",
   "execution_count": 9,
   "metadata": {},
   "outputs": [
    {
     "name": "stdout",
     "output_type": "stream",
     "text": [
      "Model(name='models/gemini-1.5-pro',\n",
      "      base_model_id='',\n",
      "      version='001',\n",
      "      display_name='Gemini 1.5 Pro',\n",
      "      description='Mid-size multimodal model that supports up to 2 million tokens',\n",
      "      input_token_limit=2097152,\n",
      "      output_token_limit=8192,\n",
      "      supported_generation_methods=['generateContent', 'countTokens'],\n",
      "      temperature=1.0,\n",
      "      max_temperature=2.0,\n",
      "      top_p=0.95,\n",
      "      top_k=64)\n"
     ]
    }
   ],
   "source": [
    "for model in genai.list_models():\n",
    "    if model.name == 'models/gemini-1.5-pro':\n",
    "        print(model) \n",
    "        break  "
   ]
  },
  {
   "cell_type": "markdown",
   "metadata": {},
   "source": [
    "**Definir el modelo**"
   ]
  },
  {
   "cell_type": "code",
   "execution_count": 10,
   "metadata": {},
   "outputs": [],
   "source": [
    "modelo = genai.GenerativeModel('gemini-1.5-pro')"
   ]
  },
  {
   "cell_type": "markdown",
   "metadata": {},
   "source": [
    "### **Definir el prompt y llamar a la API**"
   ]
  },
  {
   "cell_type": "code",
   "execution_count": 11,
   "metadata": {},
   "outputs": [
    {
     "data": {
      "text/markdown": [
       "```csv\n",
       "titulo,año,duracion,calificacion\n",
       "Cadena perpetua,1994,2h 22m,9.3\n",
       "El padrino,1972,2h 55m,9.2\n",
       "El caballero oscuro,2008,2h 32m,9.0\n",
       "El padrino parte II,1974,3h 22m,9.0\n",
       "12 hombres sin piedad,1957,1h 36m,9.0\n",
       "La lista de Schindler,1993,3h 15m,9.0\n",
       "El señor de los anillos: El retorno del rey,2003,3h 21m,9.0\n",
       "Pulp Fiction,1994,2h 34m,8.9\n",
       "El señor de los anillos: La comunidad del anillo,2001,2h 58m,8.9\n",
       "El bueno, el feo y el malo,1966,3h 2m,8.8\n",
       "Forrest Gump,1994,2h 22m,8.8\n",
       "El señor de los anillos: Las dos torres,2002,2h 59m,8.8\n",
       "El club de la lucha,1999,2h 19m,8.8\n",
       "Origen,2010,2h 28m,8.8\n",
       "El imperio contraataca,1980,2h 4m,8.7\n",
       "Matrix,1999,2h 16m,8.7\n",
       "Uno de los nuestros,1990,2h 25m,8.7\n",
       "Alguien voló sobre el nido del cuco,1975,2h 13m,8.7\n",
       "Interstellar,2014,2h 49m,8.7\n",
       "Seven,1995,2h 7m,8.6\n",
       "¡Qué bello es vivir!,1946,2h 10m,8.6\n",
       "Los siete samuráis,1954,3h 27m,8.6\n",
       "El silencio de los corderos,1991,1h 58m,8.6\n",
       "Salvar al soldado Ryan,1998,2h 49m,8.6\n",
       "Ciudad de Dios,2002,2h 10m,8.6\n",
       "La vida es bella,1997,1h 56m,8.6\n",
       "La milla verde,1999,3h 9m,8.6\n",
       "Terminator 2: El juicio final,1991,2h 17m,8.6\n",
       "La guerra de las galaxias,1977,2h 1m,8.6\n",
       "Regreso al futuro,1985,1h 56m,8.5\n",
       "El viaje de Chihiro,2001,2h 4m,8.6\n",
       "El pianista,2002,2h 30m,8.5\n",
       "Parásitos,2019,2h 12m,8.5\n",
       "Psicosis,1960,1h 49m,8.5\n",
       "Gladiator (El gladiador),2000,2h 35m,8.5\n",
       "El rey león,1994,1h 28m,8.5\n",
       "Spider-Man: Cruzando el multiverso,2023,2h 20m,8.5\n",
       "Infiltrados,2006,2h 31m,8.5\n",
       "Whiplash,2014,1h 46m,8.5\n",
       "American History X,1998,1h 59m,8.5\n",
       "El profesional (Léon),1994,1h 50m,8.5\n",
       "Hotaru no haka,1988,1h 28m,8.5\n",
       "El truco final (El prestigio),2006,2h 10m,8.5\n",
       "Harakiri,1962,2h 13m,8.6\n",
       "Dune: Parte dos,2024,2h 46m,8.5\n",
       "Sospechosos habituales,1995,1h 46m,8.5\n",
       "Casablanca,1942,1h 42m,8.5\n",
       "Intocable,2011,1h 52m,8.5\n",
       "Cinema Paradiso,1988,2h 54m,8.5\n",
       "Tiempos modernos,1936,1h 27m,8.5\n",
       "Alien, el octavo pasajero,1979,1h 57m,8.5\n",
       "La ventana indiscreta,1954,1h 52m,8.5\n",
       "Hasta que llegó su hora,1968,2h 46m,8.5\n",
       "Luces de la ciudad,1931,1h 27m,8.5\n",
       "Django desencadenado,2012,2h 45m,8.5\n",
       "Apocalypse Now,1979,2h 27m,8.4\n",
       "Memento,2000,1h 53m,8.4\n",
       "WALL·E,2008,1h 38m,8.4\n",
       "En busca del arca perdida,1981,1h 55m,8.4\n",
       "12th Fail,2023,2h 27m,8.4\n",
       "La vida de los otros,2006,2h 17m,8.4\n",
       "El crepúsculo de los dioses,1950,1h 50m,8.4\n",
       "Vengadores: Infinity War,2018,2h 29m,8.4\n",
       "Senderos de gloria,1957,1h 28m,8.4\n",
       "Spider-Man: Un nuevo universo,2018,1h 57m,8.4\n",
       "Testigo de cargo,1957,1h 56m,8.4\n",
       "El resplandor,1980,2h 26m,8.4\n",
       "El gran dictador,1940,2h 5m,8.4\n",
       "Aliens: El regreso,1986,2h 17m,8.4\n",
       "Malditos bastardos,2009,2h 33m,8.4\n",
       "El caballero oscuro: La leyenda renace,2012,2h 44m,8.4\n",
       "Coco,2017,1h 45m,8.4\n",
       "Amadeus,1984,2h 40m,8.4\n",
       "Toy Story,1995,1h 21m,8.3\n",
       "¿Teléfono rojo? Volamos hacia Moscú,1964,1h 35m,8.3\n",
       "Old Boy,2003,2h,8.3\n",
       "American Beauty,1999,2h 2m,8.3\n",
       "Vengadores: Endgame,2019,3h 1m,8.4\n",
       "El submarino (Das Boot),1981,2h 29m,8.4\n",
       "Braveheart,1995,2h 58m,8.3\n",
       "El indomable Will Hunting,1997,2h 6m,8.3\n",
       "La princesa Mononoke,1997,2h 13m,8.3\n",
       "Joker,2019,2h 2m,8.4\n",
       "Your Name.,2016,1h 46m,8.4\n",
       "El infierno del odio,1963,2h 23m,8.4\n",
       "3 Idiots,2009,2h 50m,8.4\n",
       "Érase una vez en América,1984,3h 49m,8.3\n",
       "Cantando bajo la lluvia,1952,1h 43m,8.3\n",
       "Cafarnaúm,2018,2h 6m,8.4\n",
       "Masacre (Ven y mira),1985,2h 22m,8.4\n",
       "Réquiem por un sueño,2000,1h 42m,8.3\n",
       "Toy Story 3,2010,1h 43m,8.3\n",
       "El retorno del jedi,1983,2h 11m,8.3\n",
       "¡Olvídate de mí!,2004,1h 48m,8.3\n",
       "La caza,2012,1h 55m,8.3\n",
       "2001: Una odisea del espacio,1968,2h 29m,8.3\n",
       "Vivir,1952,2h 23m,8.3\n",
       "Reservoir Dogs,1992,1h 39m,8.3\n",
       "Lawrence de Arabia,1962,3h 38m,8.3\n",
       "El apartamento,1960,2h 5m,8.3\n",
       "Incendios,2010,2h 11m,8.3\n",
       "Con la muerte en los talones,1959,2h 16m,8.3\n",
       "El precio del poder,1983,2h 50m,8.3\n",
       "Oppenheimer,2023,3h,8.3\n",
       "Ciudadano Kane,1941,1h 59m,8.3\n",
       "Perdición,1944,1h 47m,8.3\n",
       "M, el vampiro de Düsseldorf,1931,1h 57m,8.3\n",
       "Vértigo (De entre los muertos),1958,2h 8m,8.3\n",
       "La chaqueta metálica,1987,1h 56m,8.2\n",
       "Heat,1995,2h 50m,8.3\n",
       "Amélie,2001,2h 2m,8.3\n",
       "Up,2009,1h 36m,8.3\n",
       "La naranja mecánica,1971,2h 16m,8.2\n",
       "Matar a un ruiseñor,1962,2h 9m,8.3\n",
       "Nader y Simin, una separación,2011,2h 3m,8.3\n",
       "El golpe,1973,2h 9m,8.3\n",
       "Jungla de cristal,1988,2h 12m,8.2\n",
       "Indiana Jones y la última cruzada,1989,2h 7m,8.2\n",
       "Taare Zameen Par,2007,2h 42m,8.3\n",
       "Metrópolis,1927,2h 33m,8.3\n",
       "Snatch. Cerdos y diamantes,2000,1h 44m,8.2\n",
       "1917,2019,1h 59m,8.2\n",
       "L.A. Confidential,1997,2h 18m,8.2\n",
       "Ladrón de bicicletas,1948,1h 29m,8.3\n",
       "Hamilton,2020,2h 40m,8.3\n",
       "El hundimiento,2004,2h 36m,8.2\n",
       "Taxi Driver,1976,1h 54m,8.2\n",
       "Dangal,2016,2h 41m,8.3\n",
       "Batman Begins,2005,2h 20m,8.2\n",
       "La muerte tenía un precio,1965,2h 12m,8.2\n",
       "El lobo de Wall Street,2013,3h,8.2\n",
       "Green Book,2018,2h 10m,8.2\n",
       "Con faldas y a lo loco,1959,2h 1m,8.2\n",
       "El chico,1921,1h 8m,8.2\n",
       "El show de Truman,1998,1h 43m,8.2\n",
       "Vencedores o vencidos,1961,2h 59m,8.3\n",
       "El padre,2020,1h 37m,8.2\n",
       "Eva al desnudo,1950,2h 18m,8.2\n",
       "Shutter Island,2010,2h 18m,8.2\n",
       "Pozos de ambición,2007,2h 38m,8.2\n",
       "Jurassic Park (Parque Jurásico),1993,2h 7m,8.2\n",
       "Top Gun: Maverick,2022,2h 10m,8.2\n",
       "Casino,1995,2h 58m,8.2\n",
       "Ran,1985,2h 40m,8.2\n",
       "El sexto sentido,1999,1h 47m,8.2\n",
       "El laberinto del fauno,2006,1h 58m,8.2\n",
       "Sin perdón,1992,2h 10m,8.2\n",
       "No es país para viejos,2007,2h 2m,8.2\n",
       "La cosa (El enigma de otro mundo),1982,1h 49m,8.2\n",
       "Una mente maravillosa,2001,2h 15m,8.2\n",
       "Kill Bill: Volumen 1,2003,1h 51m,8.2\n",
       "El tesoro de Sierra Madre,1948,2h 6m,8.2\n",
       "Yojimbo,1961,1h 50m,8.2\n",
       "La gran evasión,1963,2h 52m,8.2\n",
       "Los caballeros de la mesa cuadrada y sus locos seguidores,1975,1h 31m,8.2\n",
       "Buscando a Nemo,2003,1h 40m,8.2\n",
       "Prisioneros,2013,2h 33m,8.2\n",
       "El castillo ambulante,2004,1h 59m,8.2\n",
       "Rashomon,1950,1h 28m,8.2\n",
       "El hombre elefante,1980,2h 4m,8.2\n",
       "Crimen perfecto,1954,1h 45m,8.2\n",
       "Chinatown,1974,2h 10m,8.1\n",
       "Lo que el viento se llevó,1939,3h 58m,8.2\n",
       "Lock & Stock,1998,1h 47m,8.1\n",
       "El secreto de sus ojos,2009,2h 9m,8.2\n",
       "V de vendetta,2005,2h 12m,8.1\n",
       "Del revés (Inside Out),2015,1h 35m,8.1\n",
       "Tres anuncios en las afueras,2017,1h 55m,8.1\n",
       "Toro salvaje,1980,2h 9m,8.1\n",
       "Trainspotting,1996,1h 33m,8.1\n",
       "El puente sobre el río Kwai,1957,2h 41m,8.1\n",
       "Klaus,2019,1h 36m,8.2\n",
       "Atrápame si puedes,2002,2h 21m,8.1\n",
       "Fargo,1996,1h 38m,8.1\n",
       "Warrior,2011,2h 20m,8.1\n",
       "Spider-Man: No Way Home,2021,2h 28m,8.2\n",
       "Gran Torino,2008,1h 56m,8.1\n",
       "Harry Potter y las Reliquias de la Muerte: Parte 2,2011,2h 10m,8.1\n",
       "Million Dollar Baby,2004,2h 12m,8.1\n",
       "Mi vecino Totoro,1988,1h 26m,8.1\n",
       "Mad Max: Furia en la carretera,2015,2h,8.1\n",
       "Children of Heaven,1997,1h 29m,8.2\n",
       "Ben-Hur,1959,3h 32m,8.1\n",
       "12 años de esclavitud,2013,2h 14m,8.1\n",
       "Barry Lyndon,1975,3h 5m,8.1\n",
       "Antes de amanecer,1995,1h 41m,8.1\n",
       "Blade Runner,1982,1h 57m,8.1\n",
       "El gran hotel Budapest,2014,1h 39m,8.1\n",
       "Hasta el último hombre (Hacksaw Ridge),2016,2h 19m,8.1\n",
       "Perdida,2014,2h 29m,8.1\n",
       "El club de los poetas muertos,1989,2h 8m,8.1\n",
       "Maharaja,2024,2h 21m,8.1\n",
       "Memories of Murder (Crónica de un asesino en serie),2003,2h 11m,8.1\n",
       "En el nombre del padre,1993,2h 13m,8.1\n",
       "La quimera del oro,1925,1h 35m,8.1\n",
       "Monstruos, S.A.,2001,1h 32m,8.1\n",
       "Relatos salvajes,2014,2h 2m,8.1\n",
       "El cazador,1978,3h 3m,8.1\n",
       "El maquinista de La General,1926,1h 18m,8.1\n",
       "El moderno Sherlock Holmes,1924,45m,8.2\n",
       "Tiburón,1975,2h 4m,8.1\n",
       "Ratatouille,2007,1h 51m,8.1\n",
       "How to Train Your Dragon,2010,1h 38m,8.1\n",
       "La ley del silencio,1954,1h 48m,8.1\n",
       "Mary and Max,2009,1h 32m,8.1\n",
       "El salario del miedo,1953,2h 11m,8.1\n",
       "Fresas salvajes,1957,1h 32m,8.1\n",
       "El tercer hombre,1949,1h 44m,8.1\n",
       "Le Mans '66,2019,2h 32m,8.1\n",
       "Caballero sin espada,1939,2h 9m,8.1\n",
       "Logan,2017,2h 17m,8.1\n",
       "Cuentos de Tokio,1953,2h 16m,8.1\n",
       "Rocky,1976,2h,8.1\n",
       "El gran Lebowski,1998,1h 57m,8.1\n",
       "El séptimo sello,1957,1h 36m,8.1\n",
       "La habitación,2015,1h 58m,8.1\n",
       "Spotlight,2015,2h 9m,8.1\n",
       "Terminator,1984,1h 47m,8.1\n",
       "Hotel Rwanda,2004,2h 1m,8.1\n",
       "Platoon,1986,2h,8.1\n",
       "El odio,1995,1h 38m,8.1\n",
       "Piratas del Caribe: La maldición de la Perla Negra,2003,2h 23m,8.1\n",
       "Antes del atardecer,2004,1h 20m,8.1\n",
       "La pasión de Juana de Arco,1928,1h 50m,8.1\n",
       "Jai Bhim,2021,2h 44m,8.7\n",
       "Los mejores años de nuestra vida,1946,2h 50m,8.1\n",
       "El exorcista,1973,2h 2m,8.1\n",
       "Rush,2013,2h 3m,8.1\n",
       "Los Increíbles,2004,1h 55m,8.0\n",
       "El mago de Oz,1939,1h 42m,8.1\n",
       "Network, un mundo implacable,1976,2h 1m,8.1\n",
       "Cuenta conmigo,1986,1h 29m,8.1\n",
       "Siempre a tu lado (Hachiko),2009,1h 33m,8.1\n",
       "Sonrisas y lágrimas,1965,2h 52m,8.1\n",
       "Mi padre y mi hijo,2005,1h 52m,8.2\n",
       "La doncella,2016,2h 25m,8.1\n",
       "Ser o no ser,1942,1h 39m,8.1\n",
       "Hacia rutas salvajes,2007,2h 28m,8.1\n",
       "La batalla de Argel,1966,2h 1m,8.1\n",
       "Las uvas de la ira,1940,2h 9m,8.1\n",
       "Atrapado en el tiempo,1993,1h 41m,8.0\n",
       "El gigante de hierro,1999,1h 26m,8.1\n",
       "Amores perros,2000,2h 34m,8.0\n",
       "Rebeca,1940,2h 10m,8.1\n",
       "Criadas y señoras,2011,2h 26m,8.1\n",
       "La leyenda del indomable,1967,2h 7m,8.1\n",
       "Sucedió una noche,1934,1h 45m,8.1\n",
       "Paris, Texas,1984,2h 25m,8.1\n",
       "Drishyam,2015,2h 43m,8.2\n",
       "Guardianes de la noche - Kimetsu no Yaiba - La película: Tren Infinito,2020,1h 57m,8.2\n",
       "``` \n"
      ],
      "text/plain": [
       "<IPython.core.display.Markdown object>"
      ]
     },
     "execution_count": 11,
     "metadata": {},
     "output_type": "execute_result"
    }
   ],
   "source": [
    "text_prompt = '''Quiero que generes un CSV con las 250 películas que aparecen. \\n\n",
    "El CSV debe contener: título de la película, año de estreno, duración de la película, calificación.'''\n",
    "\n",
    "# poner el contenido HTML y la petición que le hacemos al modelo en una lista\n",
    "prompt = [html_content, text_prompt]\n",
    "\n",
    "# hacemos la petición al modelo y almacenamos la respuesta\n",
    "response = modelo.generate_content(prompt)\n",
    "\n",
    "# Para evitar tener la salida en formato Markdown, vamos a utilizar la herramienta IPython Markdown\n",
    "Markdown(response.text)"
   ]
  },
  {
   "cell_type": "markdown",
   "metadata": {},
   "source": [
    "A tener en cuenta:\n",
    "\n",
    "- Rara vez ocurre, pero en el caso de que aparezca un error con código 500, hay que volver a ejecutar el código anterior (incluso varias veces), ya que se trata de errores internos del servidor, que suelen ser temporales.\n",
    "- Hay que procurar no hacer peticiones con demasiada frecuencia, porque sino la página web impondrá limitaciones. En este caso, si hacemos varias peticiones muy seguidas, IMDB, en vez de devolvernos las 250 películas, nos devolverá menos.\n",
    "- En el caso de que el modelo te devuelva una respuesta que no es la que esperas, deberás modificar el prompt y poner el adecuado."
   ]
  },
  {
   "cell_type": "markdown",
   "metadata": {},
   "source": [
    "### **Preparamos los datos para guardarlo en un csv**"
   ]
  },
  {
   "cell_type": "markdown",
   "metadata": {},
   "source": [
    "Ya tengo una respuesta en formato csv. Ahora ya sólo hay que escribir el código para guardar este texto en un archivo.\n",
    "\n",
    "Pero antes tengo que hacer unas pequeñas transformaciones en el texto para poder guardarlo:\n",
    "\n",
    "- Eliminar espacios en blanco al inicio y al final.\n",
    "- Hay títulos de películas que están divididas por una coma ', '. Tenemos que reemplazarlo por ': ', porque sino al guardar el CSV, creerá que se trata de diferentes campos y no lo guardará correctamente."
   ]
  },
  {
   "cell_type": "code",
   "execution_count": 12,
   "metadata": {},
   "outputs": [],
   "source": [
    "# Eliminar espacios en blanco al inicio y al final\n",
    "# Sino lo hago, al guardar el csv, se va a confundir con la coma\n",
    "response_csv =response.text.strip().replace(', ', ': ')"
   ]
  },
  {
   "cell_type": "code",
   "execution_count": 15,
   "metadata": {},
   "outputs": [
    {
     "name": "stdout",
     "output_type": "stream",
     "text": [
      "El archivo CSV 'peliculas_top250_imdb.csv' ha sido creado exitosamente.\n"
     ]
    }
   ],
   "source": [
    "# Abrir un archivo CSV en modo escritura\n",
    "with open('peliculas_top250_imdb.csv', 'w', newline='') as csvfile:\n",
    "    # Crea un objeto escritor de CSV\n",
    "    csvwriter = csv.writer(csvfile)\n",
    "\n",
    "    # Escribe cada línea del CSV generado por Gemini en el archivo\n",
    "    for row in response_csv.splitlines()[1:-1]:\n",
    "        csvwriter.writerow(row.split(','))\n",
    "\n",
    "print(\"El archivo CSV 'peliculas_top250_imdb.csv' ha sido creado exitosamente.\")"
   ]
  },
  {
   "cell_type": "code",
   "execution_count": 16,
   "metadata": {},
   "outputs": [
    {
     "data": {
      "text/html": [
       "<div>\n",
       "<style scoped>\n",
       "    .dataframe tbody tr th:only-of-type {\n",
       "        vertical-align: middle;\n",
       "    }\n",
       "\n",
       "    .dataframe tbody tr th {\n",
       "        vertical-align: top;\n",
       "    }\n",
       "\n",
       "    .dataframe thead th {\n",
       "        text-align: right;\n",
       "    }\n",
       "</style>\n",
       "<table border=\"1\" class=\"dataframe\">\n",
       "  <thead>\n",
       "    <tr style=\"text-align: right;\">\n",
       "      <th></th>\n",
       "      <th>titulo</th>\n",
       "      <th>año</th>\n",
       "      <th>duracion</th>\n",
       "      <th>calificacion</th>\n",
       "    </tr>\n",
       "  </thead>\n",
       "  <tbody>\n",
       "    <tr>\n",
       "      <th>0</th>\n",
       "      <td>Cadena perpetua</td>\n",
       "      <td>1994</td>\n",
       "      <td>2h 22m</td>\n",
       "      <td>9.3</td>\n",
       "    </tr>\n",
       "    <tr>\n",
       "      <th>1</th>\n",
       "      <td>El padrino</td>\n",
       "      <td>1972</td>\n",
       "      <td>2h 55m</td>\n",
       "      <td>9.2</td>\n",
       "    </tr>\n",
       "    <tr>\n",
       "      <th>2</th>\n",
       "      <td>El caballero oscuro</td>\n",
       "      <td>2008</td>\n",
       "      <td>2h 32m</td>\n",
       "      <td>9.0</td>\n",
       "    </tr>\n",
       "    <tr>\n",
       "      <th>3</th>\n",
       "      <td>El padrino parte II</td>\n",
       "      <td>1974</td>\n",
       "      <td>3h 22m</td>\n",
       "      <td>9.0</td>\n",
       "    </tr>\n",
       "    <tr>\n",
       "      <th>4</th>\n",
       "      <td>12 hombres sin piedad</td>\n",
       "      <td>1957</td>\n",
       "      <td>1h 36m</td>\n",
       "      <td>9.0</td>\n",
       "    </tr>\n",
       "    <tr>\n",
       "      <th>...</th>\n",
       "      <td>...</td>\n",
       "      <td>...</td>\n",
       "      <td>...</td>\n",
       "      <td>...</td>\n",
       "    </tr>\n",
       "    <tr>\n",
       "      <th>245</th>\n",
       "      <td>La leyenda del indomable</td>\n",
       "      <td>1967</td>\n",
       "      <td>2h 7m</td>\n",
       "      <td>8.1</td>\n",
       "    </tr>\n",
       "    <tr>\n",
       "      <th>246</th>\n",
       "      <td>Sucedió una noche</td>\n",
       "      <td>1934</td>\n",
       "      <td>1h 45m</td>\n",
       "      <td>8.1</td>\n",
       "    </tr>\n",
       "    <tr>\n",
       "      <th>247</th>\n",
       "      <td>Paris: Texas</td>\n",
       "      <td>1984</td>\n",
       "      <td>2h 25m</td>\n",
       "      <td>8.1</td>\n",
       "    </tr>\n",
       "    <tr>\n",
       "      <th>248</th>\n",
       "      <td>Drishyam</td>\n",
       "      <td>2015</td>\n",
       "      <td>2h 43m</td>\n",
       "      <td>8.2</td>\n",
       "    </tr>\n",
       "    <tr>\n",
       "      <th>249</th>\n",
       "      <td>Guardianes de la noche - Kimetsu no Yaiba - La...</td>\n",
       "      <td>2020</td>\n",
       "      <td>1h 57m</td>\n",
       "      <td>8.2</td>\n",
       "    </tr>\n",
       "  </tbody>\n",
       "</table>\n",
       "<p>250 rows × 4 columns</p>\n",
       "</div>"
      ],
      "text/plain": [
       "                                                titulo   año duracion  \\\n",
       "0                                      Cadena perpetua  1994   2h 22m   \n",
       "1                                           El padrino  1972   2h 55m   \n",
       "2                                  El caballero oscuro  2008   2h 32m   \n",
       "3                                  El padrino parte II  1974   3h 22m   \n",
       "4                                12 hombres sin piedad  1957   1h 36m   \n",
       "..                                                 ...   ...      ...   \n",
       "245                           La leyenda del indomable  1967    2h 7m   \n",
       "246                                  Sucedió una noche  1934   1h 45m   \n",
       "247                                       Paris: Texas  1984   2h 25m   \n",
       "248                                           Drishyam  2015   2h 43m   \n",
       "249  Guardianes de la noche - Kimetsu no Yaiba - La...  2020   1h 57m   \n",
       "\n",
       "     calificacion  \n",
       "0             9.3  \n",
       "1             9.2  \n",
       "2             9.0  \n",
       "3             9.0  \n",
       "4             9.0  \n",
       "..            ...  \n",
       "245           8.1  \n",
       "246           8.1  \n",
       "247           8.1  \n",
       "248           8.2  \n",
       "249           8.2  \n",
       "\n",
       "[250 rows x 4 columns]"
      ]
     },
     "execution_count": 16,
     "metadata": {},
     "output_type": "execute_result"
    }
   ],
   "source": [
    "# Cargar el archivo CSV en un DataFrame\n",
    "df = pd.read_csv('peliculas_top250_imdb.csv')\n",
    "df"
   ]
  },
  {
   "cell_type": "markdown",
   "metadata": {},
   "source": [
    "### **Conclusiones**\n",
    "\n",
    "El proceso de web scraping aplicado en este artículo demuestra cómo herramientas como Selenium y BeautifulSoup permiten automatizar la extracción de datos de sitios web dinámicos como IMDb. Este enfoque tiene varias ventajas y desafíos que deben tenerse en cuenta:\n",
    "\n",
    "1. *Versatilidad de Selenium*: Utilizar Selenium permite interactuar con sitios web que utilizan JavaScript para cargar contenido dinámicamente. Esto es esencial en plataformas como IMDb, donde ciertos datos, como reseñas o detalles sobre películas, pueden no estar disponibles inmediatamente en el HTML inicial. Además, Selenium facilita el acceso a páginas protegidas o que requieren navegación compleja.\n",
    "\n",
    "2. *Eficiencia de BeautifulSoup*: BeautifulSoup permite una navegación rápida y eficiente del contenido HTML una vez cargado. Al combinarlo con Selenium, se obtiene lo mejor de ambos mundos: la capacidad de cargar páginas dinámicas y luego procesar el contenido de manera eficiente.\n",
    "\n",
    "3. *Peticiones a Gemini para análisis*: La solicitud a Gemini para extraer los datos requeridos añade un valor adicional, ya que permite automatizar el análisis de datos obtenidos, lo cual es especialmente útil cuando se buscan patrones o se trabaja con grandes cantidades de información.\n",
    "\n",
    "4. *Consideraciones éticas y legales*: Es importante mencionar que cualquier actividad de web scraping debe cumplir con las políticas de uso de las plataformas y las normativas legales correspondientes, respetando los límites impuestos por las APIs o los Términos de Servicio del sitio web en cuestión.\n",
    "\n",
    "5. *Retos de Mantenimiento*: Un desafío inherente a los proyectos de scraping es la fragilidad del código ante cambios en la estructura de la página. Dado que IMDb, como otros sitios web, puede modificar su diseño o estructura de HTML, el código de scraping puede necesitar ajustes regulares.\n",
    "\n",
    "6. *Aplicaciones Prácticas*: Esta técnica es muy útil para extraer información de valor en investigaciones, análisis de datos o proyectos personales, como la creación de bases de datos personalizadas de películas, actores o reseñas de cine, lo que demuestra el potencial de usar estas herramientas para fines específicos.\n",
    "\n",
    "Estas conclusiones refuerzan la importancia de la combinación de tecnologías como Selenium y BeautifulSoup para manejar sitios web dinámicos y la versatilidad de las herramientas de análisis de datos como Gemini."
   ]
  },
  {
   "cell_type": "markdown",
   "metadata": {},
   "source": [
    "### **Referencias**\n",
    "\n",
    "- [IMDb](https://www.imdb.com/)\n",
    "- [Python](https://www.python.org/)\n",
    "- [Ipykernel](https://pypi.org/project/ipykernel/)\n",
    "- [tqdm](https://pypi.org/project/tqdm/)\n",
    "- [joblib](https://pypi.org/project/joblib/)\n",
    "- [Scipy](https://pypi.org/project/scipy/)\n",
    "- [Pandas](https://pandas.pydata.org/)\n",
    "- [BeautifulSoup](https://pypi.org/project/beautifulsoup4/)\n",
    "- [Selenium](https://www.selenium.dev/)\n",
    "- [webdriver-manager](https://pypi.org/project/webdriver-manager/)\n",
    "- [google-generativeai](https://pypi.org/project/google-generativeai/)"
   ]
  }
 ],
 "metadata": {
  "kernelspec": {
   "display_name": "publicaciones",
   "language": "python",
   "name": "python3"
  },
  "language_info": {
   "codemirror_mode": {
    "name": "ipython",
    "version": 3
   },
   "file_extension": ".py",
   "mimetype": "text/x-python",
   "name": "python",
   "nbconvert_exporter": "python",
   "pygments_lexer": "ipython3",
   "version": "3.12.2"
  }
 },
 "nbformat": 4,
 "nbformat_minor": 2
}
