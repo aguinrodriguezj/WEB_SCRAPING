{
 "cells": [
  {
   "cell_type": "markdown",
   "metadata": {},
   "source": [
    "# **Web scraping application with Python using Selenium**\n",
    "\n",
    "### **Extraction of historical prices of IBEX35 indices from a website**"
   ]
  },
  {
   "cell_type": "markdown",
   "metadata": {},
   "source": [
    "### **Consideraciones legales y éticas**\n",
    "\n",
    "Esta publicación no trata sobre cómo extraer datos de una página web con fines ilegales.\n",
    "\n",
    "Hay que asegurarse de tener permiso antes de extraer ciertos tipos de datos que puede violar los términos del servicio o incluso regulaciones legales:\n",
    "\n",
    "- Revise los términos de uso de la página web en relación a los permisos de extracción de datos.\n",
    "- Priorice el uso de las APIs, si están disponibles, ya que proporcionan acceso legal a los datos.\n",
    "- Póngase en contacto directamente con el propietario de la página web para comprobar el permiso de extracción de datos."
   ]
  },
  {
   "cell_type": "markdown",
   "metadata": {},
   "source": [
    "### **Introducción**\n",
    "\n",
    "En este proyecto veremos cómo se pueden obtener datos de una tabla de precios históricos de los índices IBEX. Para ello deberemos introducir en un **formulario** tres campos:\n",
    "\n",
    "- `Desde`: Fecha de comienzo del histórico. Como mínimo podemos introducir la fecha correspondiente a un año anterior a la fecha actual.\n",
    "- `Hasta`: Fecha de finalización del histórico. Como máximo podemos introducir el día anterior a la fecha actual.\n",
    "- `Indice`: Es una lista desplegable de índices. Debemos seleccionar uno.\n",
    "\n",
    "<img src = './img/web_principal_ibex_formulario.jpg' width =800)>\n",
    "\n",
    "Finalmente, pulsaremos sobre `BUSCAR` para enviar el formulario y que nos devuelva la tabla de resultados que queremos obtener.\n",
    "\n",
    "Por último extraeremos los datos de dicha tabla y la guardaremos en un csv.\n",
    "\n",
    "**Categorías de los índices**\n",
    "\n",
    "Vemos algunos de los índices que podemos aplicar\n",
    "\n",
    "Índices Generales:\n",
    "- IBEX 35®\n",
    "- IBEX 35® con Dividendos\n",
    "- IBEX MEDIUM CAP®\n",
    "- IBEX SMALL CAP®\n",
    "\n",
    "Índices por Sector:\n",
    "- IBEX 35® Bancos\n",
    "- IBEX 35® Energía\n",
    "- IBEX 35® Construcción\n",
    "\n",
    "Índices de Igualdad de Género:\n",
    "- IBEX Gender Equality\n",
    "- IBEX Gender Equality Total Return\n",
    "- IBEX Gender Equality Net Return\n",
    "\n",
    "Índices Apalancados e Inversos:\n",
    "- IBEX 35® Inverso\n",
    "- IBEX 35® Doble Apalancado\n",
    "- Índice TEF Apalancado X3\n",
    "\n",
    "Índices de ESG (Medioambiental, Social y de Gobernanza):\n",
    "- IBEX ESG\n",
    "- IBEX ESG Weighted\n",
    "- FTSE4Good IBEX"
   ]
  },
  {
   "cell_type": "markdown",
   "metadata": {},
   "source": [
    "### **Conocimientos previos sobre Selenium**\n",
    "\n",
    "Selenium es una herramienta de automatización web que puede interactuar con páginas web, lo que nos permite extraer contenido cargado dinámicamente por JavaScript, como los sitios construidos con React o Angular. Puede simular un usuario real navegando por la web, haciendo clic en botones y completando formularios.\n",
    "\n",
    "En este caso, al tener que obtener datos de una tabla dinámica, que además se obtiene cubriendo un formulario que se envía a través de javascript, Selenium es la mejor opción.\n",
    "\n",
    "**Localizar elementos de un HTML**\n",
    "\n",
    "Selenium ofrece dos técnicas para localizar elementos HTML en páginas web para realizar un web scraping: `**.find_element**` y  `**.find_elements**`. El método  find_element busca un único elemento específico en la página web, mientras que el find_elements recupera una lista que contiene todos los elementos descubiertos en la página web.\n",
    "\n",
    "Para localizar elementos en la página con estos métodos podemos usar la clase By con los siguientes atributos:\n",
    "- By.ID = \"id\" --> Localiza elementos en función de su \"id\".\n",
    "- By.NAME = \"name\" --> Localiza elementos en función de su atributo de \"nombre\".\n",
    "- By.XPATH = \"xpath\" --> Localiza elementos basándose en una expresión XPath. Se puede usar cuando no tengamos el atributo \"id\" o \"name\" adecuado.\n",
    "- By.LINK_TEXT = \"link text\" # Se puede usar cuando conozcamos el texto del enlace usado dentro de una etiqueta `<a>`.\n",
    "- By.PARTIAL_LINK_TEXT = \"partial link text\" # Similar al anterior.\n",
    "- By.TAG_NAME = \"tag name\" --> Localiza elementos según su nombre de etiqueta.\n",
    "- By.CLASS_NAME = \"class name\" --> Localiza elementos según el nombre de la clase.\n",
    "- By.CSS_SELECTOR = \"css selector\" --> Localiza elementos según el selector CSS.\n",
    "\n",
    "[Aquí](https://selenium-python.readthedocs.io/locating-elements.html) podemos encontrar más información sobre los diferentes métodos que hay para localizar elementos en una página."
   ]
  },
  {
   "cell_type": "markdown",
   "metadata": {},
   "source": [
    "### **Instalación de dependencias**\n",
    "\n",
    "A continuación se muestran las librerías necesarias para la ejecución del código creado:\n",
    "\n",
    "- ipykernel : kernel de Jupyter necesario para ejecutar Python.\n",
    "- tqdm : herramienta útil para crear barras de progeso en bucles.\n",
    "- joblib : biblioteca que permite la serialización de objetos Python.\n",
    "- pandas : biblioteca escrita sobre Numpy para la manipulación y el análisis de datos.\n",
    "\n",
    "Ejecutamos en la terminal el siguiente código:\n",
    "\n",
    "`pip install ipykernel tqdm joblib pandas`"
   ]
  },
  {
   "cell_type": "markdown",
   "metadata": {},
   "source": [
    "### **Instalación de selenium**\n",
    "\n",
    "Podemos instalar el selenium de 2 maneras:\n",
    "\n",
    "1. Manualmente:\n",
    "\n",
    "- Descargarlo en https://pypi.org/project/selenium/#files y descomprimirlo\n",
    "- Ejecutar: python setup.py install\n",
    "\n",
    "2. Mediante pip (package installer for python):\n",
    "\n",
    "- Ejecutar: pip install -U selenium\n",
    "\n",
    "Utilizando la segunda opción, ejecuto en el terminal:\n",
    "\n",
    "`pip install -U selenium`"
   ]
  },
  {
   "cell_type": "markdown",
   "metadata": {},
   "source": [
    "### **Instalación del driver del navegador**\n",
    "\n",
    "Necesitamos un driver para que selenium haga interfaz con el navegador seleccionado. Algunos de ellos:\n",
    "\n",
    "- Safari -> https://webkit.org/blog/6900/webdriver-support-in-safari-10/\n",
    "- Firefox/mozilla -> https://github.com/mozilla/geckodriver/releases\n",
    "- Edge -> https://developer.microsoft.com/en-us/microsoft-edge/tools/webdriver/\n",
    "- Chrome -> https://chromedriver.chromium.org/downloads\n",
    "\n",
    "Por otro lado, \"webdriver_manager\" es una biblioteca que permite gestionar automáticamente los controladores de diferentes navegadores. En la actualidad soporta los siguientes controladores:\n",
    "\n",
    "- ChromeDriver\n",
    "- EdgeChromiumDriver\n",
    "- GeckoDriver\n",
    "- IEDriver\n",
    "- OperaDriver\n",
    "\n",
    "En mi caso, haré uso de Chrome, por lo que instalaré el \"webdriver_manager\" vía \"pip\":\n",
    "\n",
    "`pip install webdriver_manager`"
   ]
  },
  {
   "cell_type": "markdown",
   "metadata": {},
   "source": [
    "### **Importación de dependencias**"
   ]
  },
  {
   "cell_type": "code",
   "execution_count": 1,
   "metadata": {},
   "outputs": [],
   "source": [
    "import pandas as pd\n",
    "import time\n",
    "from datetime import datetime, timedelta\n",
    "from selenium import webdriver\n",
    "from selenium.webdriver.chrome.service import Service\n",
    "from selenium.webdriver.chrome.options import Options\n",
    "from selenium.webdriver.common.by import By\n",
    "from selenium.webdriver.common.keys import Keys\n",
    "from selenium.webdriver.support.ui import WebDriverWait\n",
    "from selenium.webdriver.support import expected_conditions as EC\n",
    "from selenium.webdriver.support.ui import Select\n",
    "from webdriver_manager.chrome import ChromeDriverManager"
   ]
  },
  {
   "cell_type": "markdown",
   "metadata": {},
   "source": [
    "### **Configuración del navegador**"
   ]
  },
  {
   "cell_type": "markdown",
   "metadata": {},
   "source": [
    "Configuramos las opciones de comienzo del navegador para evitar que se muestre la pantalla de bienvenida y establezco la ruta de un perfil que tengo predefinido para usar con el navegador Chrome."
   ]
  },
  {
   "cell_type": "code",
   "execution_count": 2,
   "metadata": {},
   "outputs": [],
   "source": [
    "# Set up Chrome options\n",
    "chrome_options = Options()\n",
    "#chrome_options.add_argument(\"--headless\")  # Run in headless mode (no GUI)\n",
    "chrome_options.add_argument(\"--no-first-run\") # Desactiva la pantalla de bienvenida\n",
    "chrome_options.add_argument(\"--no-default-browser-check\") # Desactiva la comprobación que hace chrome por defecto al iniciarse\n",
    "chrome_options.add_argument(\"user-data-dir=C:/Users/jagui/AppData/Local/Google/Chrome/User Data/Profile 1\") # ruta de un perfil preestablecido\n",
    "chrome_options.add_argument(\"--disable-gpu\")  # Disable GPU acceleration\n",
    "chrome_options.add_argument(\"--no-sandbox\")  # Required for some environments\n",
    "chrome_options.add_argument(\"--window-size=1920x1080\")  # Set window size to ensure visibility"
   ]
  },
  {
   "cell_type": "markdown",
   "metadata": {},
   "source": [
    "### **Abrir el navegador**"
   ]
  },
  {
   "cell_type": "code",
   "execution_count": 3,
   "metadata": {},
   "outputs": [
    {
     "name": "stdout",
     "output_type": "stream",
     "text": [
      "Las cookies ya se han aceptado anteriormente\n"
     ]
    }
   ],
   "source": [
    "# Configurar el service con ChromeDriverManager\n",
    "service = Service(ChromeDriverManager().install())\n",
    "\n",
    "# Crear una nueva instancia del webDriver de Chrome con las opciones configuradas \n",
    "driver = webdriver.Chrome(service=service, options=chrome_options)\n",
    "\n",
    "# Abrir la página web\n",
    "url = \"https://www.bolsasymercados.es/bme-exchange/es/Indices/Ibex/Precios-Historicos\"\n",
    "driver.get(url)\n",
    "\n",
    "# Aceptación de cookies\n",
    "try:\n",
    "    driver.find_element(By.ID, 'onetrust-accept-btn-handler').click()    \n",
    "    print(\"Las cookies han sido aceptadas\")\n",
    "    \n",
    "except:\n",
    "    pass\n",
    "    \n",
    "print(\"Las cookies ya se han aceptado anteriormente\")\n",
    "\n",
    "# Esperamos un tiempo hasta que el form se cargue\n",
    "wait = WebDriverWait(driver, 5)\n",
    "\n",
    "# Esperar un breve momento para evitar problemas con la carga de la página\n",
    "#time.sleep(5)"
   ]
  },
  {
   "cell_type": "markdown",
   "metadata": {},
   "source": [
    "### **Inspeccionar la página web**\n",
    "\n",
    "Al analizar la web vemos que sólo nos aparece el formulario, que tenedremos que cubrir para obtener la tabla de datos deseada.\n",
    "\n",
    "**Formulario**\n",
    "\n",
    "Podemos observar que se encuentra dentro de `<form>` y dentro tiene un `<div>` para los campos \"Desde\", \"Hasta\" e \"Índice\" y un `<input>` para \"BUSCAR\".\n",
    "\n",
    "Dentro del primer `<div>` hay otros `<div>` con clase \"form-group\", uno para cada uno de los campos nombrados anteriormente.\n",
    "\n",
    "<img src = './img/ibex_formulario.jpg'>\n",
    "\n",
    "Entramos en los dos primeros \"form-group\" que contienen  los campos \"Desde\" y \"Hasta\". En ellos nos encontramos con unos `<input>` que se usarán para introducir las fechas en dichos campos. \n",
    "\n",
    "También podemos observar que nos indican las fechas mínimas y máximas que podemos introducir y la fecha por defecto que aparece en el formulario.\n",
    "\n",
    "<img src = './img/ibex_formulario_desde_hasta.jpg'>\n",
    "\n",
    "Dentro del segundo `<div>` nos encontramos con un selector en el cual aparece un listado de todos los índices que disponemos para obtener la tabla.\n",
    "\n",
    "<img src = './img/ibex_formulario_indice.jpg'>\n",
    "\n",
    "**Tabla de datos**\n",
    "\n",
    "Hacemos, por ejemplo, una búsqueda con las fechas e Índice que vienen por defecto y pulsamos el botón \"Buscar\". Nos devuelve la siguiente tabla:\n",
    "\n",
    "<img src = './img/ibex_tabla.jpg'>\n",
    "\n",
    "Analizando el HTML, vemos que la tabla tiene dos partes, un \"head\" y un \"Body\". \n",
    "\n",
    "Dentro del `<thead>` nos encontramos un `<tr>` que es la única fila que tiene la cabecera. Dentro del `<tr>`nos encontramos con 6 `<th>` que es cada uno de los campos de la cabecera.\n",
    "\n",
    "Dentro del `<tbody>`nos encontramos con tantos `<tr>`como filas se hayan creado en la tabla. Dentro de cada uno de los `<tr>`nos encontramos con 6 `<th>` que nos devuelven los valores de los 6 campos de la cabecera.\n",
    "\n",
    "<img src = './img/ibex_tabla_head_body.jpg'>"
   ]
  },
  {
   "cell_type": "markdown",
   "metadata": {},
   "source": [
    "### **Extracción de datos**"
   ]
  },
  {
   "cell_type": "markdown",
   "metadata": {},
   "source": [
    "**Listado de índices**\n",
    "\n",
    "Genero un diccionario con los índices que aparecen en el desplegable, de esa forma tengo guardados los códigos que se el javascript utiliza para enviar el formulario."
   ]
  },
  {
   "cell_type": "code",
   "execution_count": 4,
   "metadata": {},
   "outputs": [
    {
     "data": {
      "text/plain": [
       "{'ES0SI0000005': 'IBEX 35®',\n",
       " 'ES0SI0000047': 'IBEX 35® con Dividendos',\n",
       " 'ES0SI0000013': 'IBEX MEDIUM CAP®',\n",
       " 'ES0SI0000021': 'IBEX SMALL CAP®',\n",
       " 'ES0S00000901': 'IBEX 35® Bancos',\n",
       " 'ES0S00000919': 'IBEX 35® Energía',\n",
       " 'ES0S00000927': 'IBEX 35® Construcción',\n",
       " 'ES0S00001586': 'IBEX Gender Equality',\n",
       " 'ES0S00001594': 'IBEX Gender Equality Total Return',\n",
       " 'ES0S00001602': 'IBEX Gender Equality Net Return',\n",
       " 'ES0SI0000039': 'IBEX TOP Dividendo®',\n",
       " 'ES0SI0000062': 'IBEX 35® con Dividendos Netos',\n",
       " 'ES0SI0000054': 'IBEX 35® Inverso',\n",
       " 'ES0SI0000070': 'IBEX 35® Doble Inverso',\n",
       " 'ES0SI0000088': 'IBEX 35® Inverso X3',\n",
       " 'ES0SI0000195': 'IBEX 35® Inverso X5',\n",
       " 'ES0SI0001730': 'IBEX 35® Inverso X10',\n",
       " 'ES0SI0000096': 'IBEX 35® Doble Apalancado',\n",
       " 'ES0SI0000112': 'IBEX 35® Doble Apalancado Bruto',\n",
       " 'ES0SI0000138': 'IBEX 35® Doble Apalancado Neto',\n",
       " 'ES0SI0000104': 'IBEX 35® Apalancado X3',\n",
       " 'ES0SI0000179': 'IBEX 35® Apalancado Neto X3',\n",
       " 'ES0SI0000187': 'IBEX 35® Apalancado Neto X5',\n",
       " 'ES0SI0001722': 'IBEX 35® Apalancado Neto X10',\n",
       " 'ES0SI0000146': 'IBEX 35® Capped Net Return',\n",
       " 'ES0SI0000658': 'IBEX 35® Impacto Div',\n",
       " 'ES0S00000083': 'IBEX 35® Volatilidad Objetivo 10% Estándar',\n",
       " 'ES0S00000091': 'IBEX 35® Volatilidad Objetivo 12% Estándar',\n",
       " 'ES0S00000109': 'IBEX 35® Volatilidad Objetivo 15% Estándar',\n",
       " 'ES0S00000117': 'IBEX 35® Volatilidad Objetivo 18% Estándar',\n",
       " 'ES0S00000125': 'IBEX 35® Volatilidad Objetivo 10% Financiado',\n",
       " 'ES0S00000133': 'IBEX 35® Volatilidad Objetivo 12% Financiado',\n",
       " 'ES0S00000141': 'IBEX 35® Volatilidad Objetivo 15% Financiado',\n",
       " 'ES0S00000158': 'IBEX 35® Volatilidad Objetivo 18% Financiado',\n",
       " 'ES0S00001206': 'VIBEX®',\n",
       " 'ES0S00001214': 'IBEX 35® Skew',\n",
       " 'ES0S00001164': 'IBEX 35® BuyWrite',\n",
       " 'ES0S00001172': 'IBEX 35® PutWrite',\n",
       " 'ES0S00001180': 'IBEX 35® Protective Put',\n",
       " 'ES0S00001198': 'IBEX 35® Venta de Strangle',\n",
       " 'ES0S00001636': 'IBEX 35® TR Decrement 4,5%',\n",
       " 'ES0S00001644': 'IBEX 35® TR Decrement 5%',\n",
       " 'ES0S00001610': 'IBEX 35® TR Decrement 400P',\n",
       " 'ES0S00001628': 'IBEX 35® TR Decrement 450P',\n",
       " 'ES0S00001651': 'IBEX ESG',\n",
       " 'ES0S00001669': 'IBEX ESG Total Return',\n",
       " 'ES0S00001677': 'IBEX ESG Net Return',\n",
       " 'ES0S00001685': 'IBEX ESG Weighted',\n",
       " 'ES0S00001693': 'IBEX ESG Weighted Total Return',\n",
       " 'ES0S00001701': 'IBEX ESG Weighted Net Return',\n",
       " 'ES0S00000315': 'IBEX TOP Dividendo® Rentabilidad',\n",
       " 'ES0S00000323': 'IBEX TOP Dividendo® Rentabilidad Neta',\n",
       " 'ES0S00000273': 'IBEX MEDIUM CAP® con Dividendos',\n",
       " 'ES0S00000281': 'IBEX MEDIUM CAP® con Dividendos Netos',\n",
       " 'ES0S00000299': 'IBEX SMALL CAP® con Dividendos',\n",
       " 'ES0S00000307': 'IBEX SMALL CAP® con Dividendos Netos',\n",
       " 'ES0S00001156': 'IBEX Growth Market® 15',\n",
       " 'ES0S00001149': 'IBEX Growth Market® All Share',\n",
       " 'ES0SI0000641': 'FTSE4Good IBEX',\n",
       " 'ES0S00000331': 'FTSE4Good IBEX Total Return',\n",
       " 'ES0S00000349': 'FTSE4Good IBEX Net Return',\n",
       " 'ES0S00000968': 'Índice TEF Apalancado X3',\n",
       " 'ES0S00000950': 'Índice SAN Apalancado X3',\n",
       " 'ES0S00000935': 'Índice BBVA Apalancado X3',\n",
       " 'ES0S00000943': 'Índice ITX Apalancado X3',\n",
       " 'ES0S00001008': 'Índice TEF Apalancado X5',\n",
       " 'ES0S00000992': 'Índice SAN Apalancado X5',\n",
       " 'ES0S00000976': 'Índice BBVA Apalancado X5',\n",
       " 'ES0S00000984': 'Índice ITX Apalancado X5',\n",
       " 'ES0S00001040': 'Índice TEF Inverso X3',\n",
       " 'ES0S00001032': 'Índice SAN Inverso X3',\n",
       " 'ES0S00001016': 'Índice BBVA Inverso X3',\n",
       " 'ES0S00001024': 'Índice ITX Inverso X3',\n",
       " 'ES0S00001081': 'Índice TEF Inverso X5',\n",
       " 'ES0S00001073': 'Índice SAN Inverso X5',\n",
       " 'ES0S00001057': 'Índice BBVA Inverso X5',\n",
       " 'ES0S00001065': 'Índice ITX Inverso X5'}"
      ]
     },
     "execution_count": 4,
     "metadata": {},
     "output_type": "execute_result"
    }
   ],
   "source": [
    "# diccionario con la lista desplegable de los índices\n",
    "index_sector = driver.find_element(By.ID, 'indexSector')\n",
    "options_sector = index_sector.find_elements(By.TAG_NAME, 'option')\n",
    "\n",
    "dic_index = {}\n",
    "for option in options_sector:\n",
    "    key = option.get_attribute('value')\n",
    "    value = option.text.strip() # elimina espacios en blanco iniciales y finales\n",
    "    dic_index[key] = value \n",
    "\n",
    "dic_index"
   ]
  },
  {
   "cell_type": "markdown",
   "metadata": {},
   "source": [
    "**Cubrir el formulario**\n",
    "\n",
    "Definimos los campos que queremos introducir. Los campos de las fechas disponen de un calendario dinámico para introducirlas, por lo que tenemos que ir poniendo manualmente el día, el mes y el año en cada uno de los campos. Y no podemos introducirlos en ese orden, sino que debemos hacerlo en el orden en que está configurada la página."
   ]
  },
  {
   "cell_type": "code",
   "execution_count": 5,
   "metadata": {},
   "outputs": [],
   "source": [
    "# Indice del sector\n",
    "key_sector = \"ES0SI0000005\" # Seleccionar la opción deseada. En este caso 'IBEX 35®'\n",
    "\n",
    "# Fecha inicio (2 opciones --> fecha mínima disponible o fecha deseada)\n",
    "start_date_str = (datetime.now() - timedelta(days=366)).strftime('%Y-%m-%d')\n",
    "#start_date_str = \"2024-03-21\" # Poner la fecha deseada\n",
    "\n",
    "# Fecha fin (2 opciones --> fecha máxima disponible o fecha deseada)\n",
    "end_date_str = (datetime.now() - timedelta(days=1)).strftime('%Y-%m-%d') # fecha máxima disponible\n",
    "# end_date_str = \"2024-08-20\" # Poner la fecha desada\n",
    "\n",
    "# día, mes y año del start_date\n",
    "start_date = datetime.strptime(start_date_str, \"%Y-%m-%d\")\n",
    "start_day = start_date.day\n",
    "start_month = start_date.month\n",
    "start_year = start_date.year\n",
    "\n",
    "# día, mes y año del end_date\n",
    "end_date = datetime.strptime(end_date_str, \"%Y-%m-%d\")\n",
    "end_day = end_date.day\n",
    "end_month = end_date.month\n",
    "end_year = end_date.year"
   ]
  },
  {
   "cell_type": "markdown",
   "metadata": {},
   "source": [
    "Enviamos al formulario los campos que acabamos de definir"
   ]
  },
  {
   "cell_type": "code",
   "execution_count": 6,
   "metadata": {},
   "outputs": [],
   "source": [
    "# Enviar el start date\n",
    "start_date_element = wait.until(EC.presence_of_element_located((By.ID, 'date-from')))\n",
    "start_date_element.clear()\n",
    "start_date_element.send_keys(Keys.TAB)\n",
    "start_date_element.send_keys(Keys.TAB)\n",
    "start_date_element.click()\n",
    "start_date_element.send_keys(f\"{start_year}\") \n",
    "time.sleep(0.5) \n",
    "start_date_element.send_keys(Keys.ARROW_LEFT)\n",
    "start_date_element.send_keys(f\"{start_month}\")\n",
    "time.sleep(0.5)\n",
    "start_date_element.send_keys(Keys.ARROW_LEFT)\n",
    "start_date_element.send_keys(Keys.ARROW_LEFT)\n",
    "start_date_element.send_keys(f\"{start_day}\")\n",
    "time.sleep(0.5)"
   ]
  },
  {
   "cell_type": "code",
   "execution_count": 7,
   "metadata": {},
   "outputs": [],
   "source": [
    "# Enviar el end date\n",
    "end_date_element = wait.until(EC.presence_of_element_located((By.ID, 'date-to')))\n",
    "end_date_element.clear()\n",
    "end_date_element.click()\n",
    "end_date_element.send_keys(Keys.TAB)\n",
    "end_date_element.send_keys(Keys.TAB)\n",
    "end_date_element.send_keys(f\"{end_year}\") \n",
    "time.sleep(0.5) \n",
    "end_date_element.send_keys(Keys.ARROW_LEFT)\n",
    "end_date_element.send_keys(f\"{end_month}\")\n",
    "time.sleep(0.5)\n",
    "end_date_element.send_keys(Keys.ARROW_LEFT)\n",
    "end_date_element.send_keys(Keys.ARROW_LEFT)\n",
    "end_date_element.send_keys(f\"{end_day}\")\n",
    "time.sleep(0.5)"
   ]
  },
  {
   "cell_type": "code",
   "execution_count": 8,
   "metadata": {},
   "outputs": [],
   "source": [
    "# Seleccionar la opción deseada del menú desplegable usando la clase Select\n",
    "dropdown_element = Select(driver.find_element(By.ID, 'indexSector'))\n",
    "dropdown_element.select_by_value(key_sector)  "
   ]
  },
  {
   "cell_type": "code",
   "execution_count": 9,
   "metadata": {},
   "outputs": [],
   "source": [
    "# Enviar el formulario\n",
    "submit_button = driver.find_element(By.XPATH, \"//input[@type='submit' and @value='Buscar']\")\n",
    "submit_button.click()"
   ]
  },
  {
   "cell_type": "code",
   "execution_count": 10,
   "metadata": {},
   "outputs": [
    {
     "data": {
      "text/plain": [
       "<selenium.webdriver.remote.webelement.WebElement (session=\"233899825279d866caf318c6b643e147\", element=\"f.70197DB557E61B61C811BC6F976B5CDB.d.0531544AB0813521899EF8DB4D846356.e.193\")>"
      ]
     },
     "execution_count": 10,
     "metadata": {},
     "output_type": "execute_result"
    }
   ],
   "source": [
    "# Espera a que los resultados se carguen\n",
    "wait.until(EC.presence_of_element_located((By.TAG_NAME, 'table')))  # Ajustar si los resultados de la tabla todavía no han aparecido"
   ]
  },
  {
   "cell_type": "markdown",
   "metadata": {},
   "source": [
    "**Extracción de datos de la tabla**\n",
    "\n",
    "Dependiendo de las fechas que introduzcamos, la tabla que nos devuelve puede estar en una sóla página o en varias. En nuestro caso vemos que se encuentra en varias páginas, por lo que para poder pasar de una página a otra tenemos que interactuar con ella.\n",
    "\n",
    "<img src ='./img/ibex_navegacion_paginas.jpg'>\n",
    "\n",
    "Para hacer la extracción de los datos de la tabla, definimos una función que usaremos para los datos de la primera página."
   ]
  },
  {
   "cell_type": "code",
   "execution_count": 11,
   "metadata": {},
   "outputs": [],
   "source": [
    "# Función para extraer datos de la tabla en la primera página\n",
    "def extract_table_data():\n",
    "    table = driver.find_element(By.TAG_NAME, 'table')\n",
    "    rows = table.find_elements(By.TAG_NAME, 'tr')\n",
    "    header = []\n",
    "    page_data = []\n",
    "    headers = rows[0].find_elements(By.TAG_NAME, 'th')\n",
    "    header.extend([head.text for head in headers])\n",
    "    for row in rows[1:]:\n",
    "        cols = row.find_elements(By.TAG_NAME, 'td')\n",
    "        page_data.append([col.text for col in cols])    \n",
    "\n",
    "    return header, page_data"
   ]
  },
  {
   "cell_type": "code",
   "execution_count": 12,
   "metadata": {},
   "outputs": [],
   "source": [
    "# Inicializar una lista para almacenar los datos de todas las páginas\n",
    "all_data = []\n",
    "\n",
    "# extraemos los datos de la primera página\n",
    "header, page_data = extract_table_data()\n",
    "all_data.extend(page_data)"
   ]
  },
  {
   "cell_type": "markdown",
   "metadata": {},
   "source": [
    "Navegamos por el resto de las páginas y vamos extrayendo los datos a medida que pasamos por ellas y los vamos almacenando."
   ]
  },
  {
   "cell_type": "code",
   "execution_count": 13,
   "metadata": {},
   "outputs": [
    {
     "name": "stdout",
     "output_type": "stream",
     "text": [
      "No hay más páginas o se produjo un error: Message: no such element: Unable to locate element: {\"method\":\"xpath\",\"selector\":\"//div[@class='col-sm-12']//a[@href='#' and @aria-disabled='false']//span[@class='glyphicon glyphicon-forward']\"}\n",
      "  (Session info: chrome=128.0.6613.120); For documentation on this error, please visit: https://www.selenium.dev/documentation/webdriver/troubleshooting/errors#no-such-element-exception\n",
      "Stacktrace:\n",
      "\tGetHandleVerifier [0x00828213+26163]\n",
      "\t(No symbol) [0x007B9CC4]\n",
      "\t(No symbol) [0x006B24C3]\n",
      "\t(No symbol) [0x006F7453]\n",
      "\t(No symbol) [0x006F762B]\n",
      "\t(No symbol) [0x00736B62]\n",
      "\t(No symbol) [0x0071AD04]\n",
      "\t(No symbol) [0x00734661]\n",
      "\t(No symbol) [0x0071AA56]\n",
      "\t(No symbol) [0x006EBE89]\n",
      "\t(No symbol) [0x006EC8CD]\n",
      "\tGetHandleVerifier [0x00AFD313+2996019]\n",
      "\tGetHandleVerifier [0x00B51B89+3342249]\n",
      "\tGetHandleVerifier [0x008B7AEF+614159]\n",
      "\tGetHandleVerifier [0x008BF17C+644508]\n",
      "\t(No symbol) [0x007C27FD]\n",
      "\t(No symbol) [0x007BF6F8]\n",
      "\t(No symbol) [0x007BF895]\n",
      "\t(No symbol) [0x007B1C16]\n",
      "\tBaseThreadInitThunk [0x75577BA9+25]\n",
      "\tRtlInitializeExceptionChain [0x7721C10B+107]\n",
      "\tRtlClearBits [0x7721C08F+191]\n",
      "\n"
     ]
    }
   ],
   "source": [
    "# Navegar por las páginas y extraer datos\n",
    "while True:\n",
    "    try:\n",
    "        # Encontrar el botón de siguiente página y hacer clic en él\n",
    "        next_page = driver.find_element(By.XPATH, \"//div[@class='col-sm-12']//a[@href='#' and @aria-disabled='false']//span[@class='glyphicon glyphicon-forward']\")  # Cambia el XPATH si es necesario\n",
    "        next_page.click()\n",
    "\n",
    "        # Esperar a que la nueva página se cargue\n",
    "        wait.until(EC.presence_of_element_located((By.TAG_NAME, 'table')))\n",
    "        \n",
    "        # Esperar un breve momento para evitar problemas con la carga de la página\n",
    "        time.sleep(3)\n",
    "        \n",
    "        # Extraer datos de la página actual\n",
    "        header, page_data = extract_table_data()\n",
    "        all_data.extend(page_data)             \n",
    "            \n",
    "    except Exception as e:\n",
    "        print(\"No hay más páginas o se produjo un error:\", e)\n",
    "        break"
   ]
  },
  {
   "cell_type": "markdown",
   "metadata": {},
   "source": [
    "### **Guardar los datos en un archivo**"
   ]
  },
  {
   "cell_type": "markdown",
   "metadata": {},
   "source": [
    "Cargamos en un DataFrame todos los datos que hemos almacenado en \"all_data\" y posteriormente lo guardamos en un archivo csv."
   ]
  },
  {
   "cell_type": "code",
   "execution_count": 14,
   "metadata": {},
   "outputs": [
    {
     "data": {
      "text/html": [
       "<div>\n",
       "<style scoped>\n",
       "    .dataframe tbody tr th:only-of-type {\n",
       "        vertical-align: middle;\n",
       "    }\n",
       "\n",
       "    .dataframe tbody tr th {\n",
       "        vertical-align: top;\n",
       "    }\n",
       "\n",
       "    .dataframe thead th {\n",
       "        text-align: right;\n",
       "    }\n",
       "</style>\n",
       "<table border=\"1\" class=\"dataframe\">\n",
       "  <thead>\n",
       "    <tr style=\"text-align: right;\">\n",
       "      <th></th>\n",
       "      <th>Fecha</th>\n",
       "      <th>Último</th>\n",
       "      <th>Anterior</th>\n",
       "      <th>Máximo</th>\n",
       "      <th>Mínimo</th>\n",
       "      <th>Medio</th>\n",
       "    </tr>\n",
       "  </thead>\n",
       "  <tbody>\n",
       "    <tr>\n",
       "      <th>0</th>\n",
       "      <td>08/09/2023</td>\n",
       "      <td>9.364,60</td>\n",
       "      <td>9.310,00</td>\n",
       "      <td>9.372,30</td>\n",
       "      <td>9.238,50</td>\n",
       "      <td>9.304,80</td>\n",
       "    </tr>\n",
       "    <tr>\n",
       "      <th>1</th>\n",
       "      <td>11/09/2023</td>\n",
       "      <td>9.435,20</td>\n",
       "      <td>9.364,60</td>\n",
       "      <td>9.457,90</td>\n",
       "      <td>9.367,30</td>\n",
       "      <td>9.416,00</td>\n",
       "    </tr>\n",
       "    <tr>\n",
       "      <th>2</th>\n",
       "      <td>12/09/2023</td>\n",
       "      <td>9.455,40</td>\n",
       "      <td>9.435,20</td>\n",
       "      <td>9.501,70</td>\n",
       "      <td>9.448,00</td>\n",
       "      <td>9.470,70</td>\n",
       "    </tr>\n",
       "    <tr>\n",
       "      <th>3</th>\n",
       "      <td>13/09/2023</td>\n",
       "      <td>9.424,10</td>\n",
       "      <td>9.455,40</td>\n",
       "      <td>9.448,30</td>\n",
       "      <td>9.330,60</td>\n",
       "      <td>9.389,20</td>\n",
       "    </tr>\n",
       "    <tr>\n",
       "      <th>4</th>\n",
       "      <td>14/09/2023</td>\n",
       "      <td>9.549,00</td>\n",
       "      <td>9.424,10</td>\n",
       "      <td>9.563,10</td>\n",
       "      <td>9.380,00</td>\n",
       "      <td>9.469,20</td>\n",
       "    </tr>\n",
       "    <tr>\n",
       "      <th>...</th>\n",
       "      <td>...</td>\n",
       "      <td>...</td>\n",
       "      <td>...</td>\n",
       "      <td>...</td>\n",
       "      <td>...</td>\n",
       "      <td>...</td>\n",
       "    </tr>\n",
       "    <tr>\n",
       "      <th>250</th>\n",
       "      <td>02/09/2024</td>\n",
       "      <td>11.395,30</td>\n",
       "      <td>11.401,90</td>\n",
       "      <td>11.422,40</td>\n",
       "      <td>11.337,50</td>\n",
       "      <td>11.386,90</td>\n",
       "    </tr>\n",
       "    <tr>\n",
       "      <th>251</th>\n",
       "      <td>03/09/2024</td>\n",
       "      <td>11.279,20</td>\n",
       "      <td>11.395,30</td>\n",
       "      <td>11.429,40</td>\n",
       "      <td>11.257,50</td>\n",
       "      <td>11.319,10</td>\n",
       "    </tr>\n",
       "    <tr>\n",
       "      <th>252</th>\n",
       "      <td>04/09/2024</td>\n",
       "      <td>11.213,90</td>\n",
       "      <td>11.279,20</td>\n",
       "      <td>11.238,30</td>\n",
       "      <td>11.138,80</td>\n",
       "      <td>11.201,30</td>\n",
       "    </tr>\n",
       "    <tr>\n",
       "      <th>253</th>\n",
       "      <td>05/09/2024</td>\n",
       "      <td>11.273,50</td>\n",
       "      <td>11.213,90</td>\n",
       "      <td>11.317,30</td>\n",
       "      <td>11.152,20</td>\n",
       "      <td>11.272,50</td>\n",
       "    </tr>\n",
       "    <tr>\n",
       "      <th>254</th>\n",
       "      <td>06/09/2024</td>\n",
       "      <td>11.173,00</td>\n",
       "      <td>11.273,50</td>\n",
       "      <td>11.329,90</td>\n",
       "      <td>11.157,20</td>\n",
       "      <td>11.237,40</td>\n",
       "    </tr>\n",
       "  </tbody>\n",
       "</table>\n",
       "<p>255 rows × 6 columns</p>\n",
       "</div>"
      ],
      "text/plain": [
       "          Fecha     Último   Anterior     Máximo     Mínimo      Medio\n",
       "0    08/09/2023   9.364,60   9.310,00   9.372,30   9.238,50   9.304,80\n",
       "1    11/09/2023   9.435,20   9.364,60   9.457,90   9.367,30   9.416,00\n",
       "2    12/09/2023   9.455,40   9.435,20   9.501,70   9.448,00   9.470,70\n",
       "3    13/09/2023   9.424,10   9.455,40   9.448,30   9.330,60   9.389,20\n",
       "4    14/09/2023   9.549,00   9.424,10   9.563,10   9.380,00   9.469,20\n",
       "..          ...        ...        ...        ...        ...        ...\n",
       "250  02/09/2024  11.395,30  11.401,90  11.422,40  11.337,50  11.386,90\n",
       "251  03/09/2024  11.279,20  11.395,30  11.429,40  11.257,50  11.319,10\n",
       "252  04/09/2024  11.213,90  11.279,20  11.238,30  11.138,80  11.201,30\n",
       "253  05/09/2024  11.273,50  11.213,90  11.317,30  11.152,20  11.272,50\n",
       "254  06/09/2024  11.173,00  11.273,50  11.329,90  11.157,20  11.237,40\n",
       "\n",
       "[255 rows x 6 columns]"
      ]
     },
     "execution_count": 14,
     "metadata": {},
     "output_type": "execute_result"
    }
   ],
   "source": [
    "# Convertir los datos en un DataFrame\n",
    "df = pd.DataFrame(all_data, \n",
    "                  columns = header\n",
    "                  )\n",
    "df"
   ]
  },
  {
   "cell_type": "code",
   "execution_count": 15,
   "metadata": {},
   "outputs": [],
   "source": [
    "# guardar en un archivo csv\n",
    "df.to_csv(dic_index[key_sector] + '_historico.csv')"
   ]
  },
  {
   "cell_type": "code",
   "execution_count": 16,
   "metadata": {},
   "outputs": [],
   "source": [
    "# Cerramos el navegador\n",
    "driver.quit()"
   ]
  },
  {
   "cell_type": "markdown",
   "metadata": {},
   "source": [
    "### **Conclusiones**\n",
    "\n",
    "El web scraping con Selenium es una herramienta poderosa y flexible para extraer datos de sitios web dinámicos, especialmente aquellos que dependen en gran medida de JavaScript para generar contenido. A lo largo de este artículo, hemos visto cómo Selenium se destaca en situaciones donde otras herramientas de scraping, como BeautifulSoup o Scrapy, pueden tener limitaciones debido a la necesidad de interactuar con elementos de la página o manejar eventos complejos.\n",
    "\n",
    "Sin embargo, aunque Selenium ofrece grandes ventajas, también presenta ciertas limitaciones y desventajas frente a otras herramientas. Por ejemplo:\n",
    "\n",
    "- Rendimiento y eficiencia : Selenium ejecuta un navegador completo, lo que puede ser más lento y consumir más recursos. Esto puede ser una limitación si se necesita extraer grandes cantidades de datos de forma rápida y eficiente.\n",
    "- Mantenimiento de scripts: Dado que Selenium interactúa con la interfaz visual de las páginas web, los scripts de scraping pueden volverse frágiles ante cambios en el diseño o la estructura del DOM de la página. \n",
    "\n",
    "En este artículo nos hemos encontrado con un escenario complejo, en el que para acceder a los datos que queríamos, primero tuvimos que cubrir un formulario, que la página envía a través de javascript, para finalmente obtener la tabla de datos específica. Por ello, la utilización de Selenium es la mejor opción para este tipo de casos.\n",
    "Finalmente hemos podido extraer el histórico de un año de los precios del índice IBEX35."
   ]
  },
  {
   "cell_type": "markdown",
   "metadata": {},
   "source": [
    "### **Referencias**\n",
    "\n",
    "- [Python](https://www.python.org/)\n",
    "- [Ipykernel](https://pypi.org/project/ipykernel/)\n",
    "- [tqdm](https://pypi.org/project/tqdm/)\n",
    "- [joblib](https://pypi.org/project/joblib/)\n",
    "- [Pandas](https://pandas.pydata.org/)\n",
    "- [Selenium](https://www.selenium.dev/)\n",
    "- [Locating Elements with selenium](https://selenium-python.readthedocs.io/locating-elements.html)\n",
    "- [webdriver-manager](https://pypi.org/project/webdriver-manager/)"
   ]
  }
 ],
 "metadata": {
  "kernelspec": {
   "display_name": "publicaciones",
   "language": "python",
   "name": "python3"
  },
  "language_info": {
   "codemirror_mode": {
    "name": "ipython",
    "version": 3
   },
   "file_extension": ".py",
   "mimetype": "text/x-python",
   "name": "python",
   "nbconvert_exporter": "python",
   "pygments_lexer": "ipython3",
   "version": "3.12.2"
  }
 },
 "nbformat": 4,
 "nbformat_minor": 2
}
